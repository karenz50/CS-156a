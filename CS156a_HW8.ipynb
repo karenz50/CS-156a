{
  "nbformat": 4,
  "nbformat_minor": 0,
  "metadata": {
    "colab": {
      "provenance": []
    },
    "kernelspec": {
      "name": "python3",
      "display_name": "Python 3"
    },
    "language_info": {
      "name": "python"
    }
  },
  "cells": [
    {
      "cell_type": "code",
      "source": [
        "import numpy as np\n",
        "from sklearn.svm import SVC\n",
        "import sklearn.model_selection as model_selection"
      ],
      "metadata": {
        "id": "tG16UXbFT-wF"
      },
      "execution_count": null,
      "outputs": []
    },
    {
      "cell_type": "code",
      "execution_count": null,
      "metadata": {
        "id": "VoVDLpMEQAEr"
      },
      "outputs": [],
      "source": [
        "def load_data(file_path):\n",
        "  data = np.loadtxt(file_path)\n",
        "  X = data[:, 1:]\n",
        "  Y = data[:, 0]\n",
        "  return X, Y\n",
        "\n",
        "def create_binary_labels(y, target_digit):\n",
        "  return np.where(y == target_digit, 1, -1)\n",
        "\n",
        "def train_and_evaluate(trainX, trainY, C, Q, test=None):\n",
        "  svm = SVC(C=C, kernel='poly', degree=Q, coef0=1, gamma=1)\n",
        "  svm.fit(trainX, trainY)\n",
        "\n",
        "  predictions = svm.predict(trainX)\n",
        "  e_in = np.mean(predictions != trainY)\n",
        "  sv = len(svm.support_)\n",
        "\n",
        "  if test:\n",
        "    predictions = svm.predict(test[0])\n",
        "    e_out = np.mean(predictions != test[1])\n",
        "    return e_in, sv, e_out\n",
        "\n",
        "  return e_in, sv, None\n",
        "\n",
        "def get_support_vectors(X, Y, digit, C, Q):\n",
        "  binY = create_binary_labels(Y, digit)\n",
        "  svm = SVC(C=C, kernel='poly', degree=Q, coef0=1, gamma=1)\n",
        "  svm.fit(X, binY)\n",
        "\n",
        "  return sum(svm.n_support_)\n",
        "\n",
        "def evaluate_classifiers(X, Y, classifiers, C, Q, test=None):\n",
        "  for classifier in classifiers:\n",
        "    y_train_binary = create_binary_labels(Y, classifier)\n",
        "    e_in, sv, e_out = train_and_evaluate(X, y_train_binary, C, Q, test=test)\n",
        "    print(f\"{classifier}: e_in = {e_in}\")"
      ]
    },
    {
      "cell_type": "code",
      "source": [
        "train_file_path = \"/content/features.train\"\n",
        "test_file_path = \"/content/features.test\"\n",
        "\n",
        "trainX, trainY = load_data(train_file_path)\n",
        "testX, testY = load_data(test_file_path)"
      ],
      "metadata": {
        "id": "ix10XI6kZFvS"
      },
      "execution_count": null,
      "outputs": []
    },
    {
      "cell_type": "code",
      "source": [
        "C = 0.01\n",
        "Q = 2\n",
        "\n",
        "evaluate_classifiers(trainX, trainY, range(0, 10, 2), C, Q)\n",
        "print(\"----------------------\")\n",
        "evaluate_classifiers(trainX, trainY, range(1, 11, 2), C, Q)"
      ],
      "metadata": {
        "colab": {
          "base_uri": "https://localhost:8080/"
        },
        "id": "8cNdRKkkT6e1",
        "outputId": "ee9ea785-cbb6-472e-ce7f-0bf3b5c18dc6"
      },
      "execution_count": null,
      "outputs": [
        {
          "output_type": "stream",
          "name": "stdout",
          "text": [
            "0: e_in = 0.10588396653408312\n",
            "2: e_in = 0.10026059525442327\n",
            "4: e_in = 0.08942531888629818\n",
            "6: e_in = 0.09107118365107666\n",
            "8: e_in = 0.07433822520916199\n",
            "----------------------\n",
            "1: e_in = 0.014401316691811822\n",
            "3: e_in = 0.09024825126868742\n",
            "5: e_in = 0.07625840076807022\n",
            "7: e_in = 0.08846523110684405\n",
            "9: e_in = 0.08832807570977919\n"
          ]
        }
      ]
    },
    {
      "cell_type": "code",
      "source": [
        "sv1 = get_support_vectors(trainX, trainY, 0, C, Q)\n",
        "sv2 = get_support_vectors(trainX, trainY, 1, C, Q)\n",
        "\n",
        "sv_diff = abs(sv1 - sv2)\n",
        "print(f\"Difference in support vectors: {sv_diff}\")"
      ],
      "metadata": {
        "colab": {
          "base_uri": "https://localhost:8080/"
        },
        "id": "gkGB2K4LYhYM",
        "outputId": "1f9aa728-0f8a-41c1-ba04-8beb4e830247"
      },
      "execution_count": null,
      "outputs": [
        {
          "output_type": "stream",
          "name": "stdout",
          "text": [
            "Difference in support vectors: 1793\n"
          ]
        }
      ]
    },
    {
      "cell_type": "code",
      "source": [
        "def filter_data_15(X, y):\n",
        "  filteredX = X[(y == 1) | (y == 5)]\n",
        "  filteredY = y[(y == 1) | (y == 5)]\n",
        "  binY = np.where(filteredY == 1, 1, -1)\n",
        "  return filteredX, binY\n",
        "\n",
        "filteredX, filteredY = filter_data_15(trainX, trainY)\n",
        "\n",
        "C_values = [.001, .01, .1, 1]\n",
        "Q_values = [2, 5]\n",
        "\n",
        "for Q in Q_values:\n",
        "  for C in C_values:\n",
        "    ein, sv, e_out = train_and_evaluate(filteredX, filteredY, C, Q, test=(testX, testY))\n",
        "    print(f\"Q = {Q}, C = {C}: Ein = {ein}, E_out = {e_out}, Support Vectors = {sv}\")"
      ],
      "metadata": {
        "colab": {
          "base_uri": "https://localhost:8080/"
        },
        "id": "RNtkq2LexaJh",
        "outputId": "3c152ee4-c8f4-4c0a-a5d0-93ef7f6e1956"
      },
      "execution_count": null,
      "outputs": [
        {
          "output_type": "stream",
          "name": "stdout",
          "text": [
            "Q = 2, C = 0.001: Ein = 0.004484304932735426, E_out = 0.8719481813652217, Support Vectors = 76\n",
            "Q = 2, C = 0.01: Ein = 0.004484304932735426, E_out = 0.872446437468859, Support Vectors = 34\n",
            "Q = 2, C = 0.1: Ein = 0.004484304932735426, E_out = 0.872446437468859, Support Vectors = 24\n",
            "Q = 2, C = 1: Ein = 0.0032030749519538757, E_out = 0.872446437468859, Support Vectors = 24\n",
            "Q = 5, C = 0.001: Ein = 0.004484304932735426, E_out = 0.872446437468859, Support Vectors = 25\n",
            "Q = 5, C = 0.01: Ein = 0.003843689942344651, E_out = 0.872446437468859, Support Vectors = 23\n",
            "Q = 5, C = 0.1: Ein = 0.0032030749519538757, E_out = 0.872446437468859, Support Vectors = 25\n",
            "Q = 5, C = 1: Ein = 0.0032030749519538757, E_out = 0.8729446935724963, Support Vectors = 21\n"
          ]
        }
      ]
    },
    {
      "cell_type": "code",
      "source": [
        "C_values = [.0001, .001, .01, .1, 1]\n",
        "Q = 2\n",
        "runs = 100\n",
        "folds = 10\n",
        "\n",
        "fold = model_selection.RepeatedStratifiedKFold(n_splits=folds, n_repeats=runs)\n",
        "best_C = []\n",
        "\n",
        "for train_index, val_index in fold.split(filteredX, filteredY):\n",
        "    trainX, valX = filteredX[train_index], filteredX[val_index]\n",
        "    trainY, valY = filteredY[train_index], filteredY[val_index]\n",
        "\n",
        "    best_score = 0\n",
        "    best = None\n",
        "\n",
        "    for C in C_values:\n",
        "        svm = SVC(kernel='poly', C=C, degree=Q, gamma=1, coef0=1)\n",
        "        svm.fit(trainX, trainY)\n",
        "        score = svm.score(valX, valY)\n",
        "        if score > best_score:\n",
        "            best_score = score\n",
        "            best = C\n",
        "\n",
        "    best_C.append(best)\n",
        "\n",
        "_, count = np.unique(best_C, return_counts=True)\n",
        "\n",
        "for i in range(len(C_values)):\n",
        "  print(f\"C {C_values[i]}: {count[i]}\")"
      ],
      "metadata": {
        "colab": {
          "base_uri": "https://localhost:8080/"
        },
        "id": "0xDLTwwAAc6r",
        "outputId": "9103300b-2816-43b4-b25a-489ea454ac16"
      },
      "execution_count": null,
      "outputs": [
        {
          "output_type": "stream",
          "name": "stdout",
          "text": [
            "C 0.0001: 387\n",
            "C 0.001: 502\n",
            "C 0.01: 52\n",
            "C 0.1: 28\n",
            "C 1: 31\n"
          ]
        }
      ]
    },
    {
      "cell_type": "code",
      "source": [
        "filteredX_test, filteredY_test = filter_data_15(testX, testY)\n",
        "\n",
        "def rbf(C):\n",
        "    svm = SVC(kernel='rbf', C=C, degree=Q, gamma=1)\n",
        "    svm.fit(filteredX, filteredY)\n",
        "    predictions = svm.predict(filteredX)\n",
        "    e_in = np.mean(predictions != filteredY)\n",
        "    predictions = svm.predict(filteredX_test)\n",
        "    e_out = np.mean(predictions != filteredY_test)\n",
        "    print(f\"C {C}, e_in = {e_in}, e_out = {e_out}\")\n",
        "\n",
        "C_values = [.01, 1, 100, 1e4, 1e6]\n",
        "\n",
        "for C in C_values:\n",
        "  rbf(C)"
      ],
      "metadata": {
        "colab": {
          "base_uri": "https://localhost:8080/"
        },
        "id": "SEBux899DvB5",
        "outputId": "c66a5f40-c109-4bb5-8160-ed6433fc2e96"
      },
      "execution_count": null,
      "outputs": [
        {
          "output_type": "stream",
          "name": "stdout",
          "text": [
            "C 0.01, e_in = 0.003843689942344651, e_out = 0.02358490566037736\n",
            "C 1, e_in = 0.004484304932735426, e_out = 0.02122641509433962\n",
            "C 100, e_in = 0.0032030749519538757, e_out = 0.018867924528301886\n",
            "C 10000.0, e_in = 0.0025624599615631004, e_out = 0.02358490566037736\n",
            "C 1000000.0, e_in = 0.0006406149903907751, e_out = 0.02358490566037736\n"
          ]
        }
      ]
    }
  ]
}