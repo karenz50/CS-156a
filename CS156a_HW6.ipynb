{
  "nbformat": 4,
  "nbformat_minor": 0,
  "metadata": {
    "colab": {
      "provenance": []
    },
    "kernelspec": {
      "name": "python3",
      "display_name": "Python 3"
    },
    "language_info": {
      "name": "python"
    }
  },
  "cells": [
    {
      "cell_type": "code",
      "source": [
        "import requests\n",
        "\n",
        "try:\n",
        "  with open(\"in.dta\", \"x\") as infile:\n",
        "    request_in = requests.get(\"http://work.caltech.edu/data/in.dta\")\n",
        "    infile.write(request_in.text)\n",
        "    print(\"Downloaded training data\")\n",
        "except FileExistsError as e:\n",
        "  print(\"Training data already downloaded\")\n",
        "\n",
        "try:\n",
        "  outfile = open(\"out.dta\", \"x\")\n",
        "  request_out = requests.get(\"http://work.caltech.edu/data/out.dta\")\n",
        "  outfile.write(request_out.text)\n",
        "  print(\"Downloaded test data\")\n",
        "except FileExistsError as e:\n",
        "  print(\"Test data already downloaded\")"
      ],
      "metadata": {
        "colab": {
          "base_uri": "https://localhost:8080/"
        },
        "id": "luPDzgCARsEz",
        "outputId": "55bc209b-141f-4281-a568-7ae6358eb300"
      },
      "execution_count": null,
      "outputs": [
        {
          "output_type": "stream",
          "name": "stdout",
          "text": [
            "Downloaded training data\n",
            "Downloaded test data\n"
          ]
        }
      ]
    },
    {
      "cell_type": "code",
      "source": [
        "import numpy as np\n",
        "import matplotlib.pyplot as plt\n",
        "\n",
        "train_data = np.loadtxt(\"in.dta\")\n",
        "test_data = np.loadtxt(\"out.dta\")\n",
        "\n",
        "trainX, trainY = train_data[:, :2], train_data[:, 2]\n",
        "testX, testY = test_data[:, :2], test_data[:, 2]\n",
        "trainN, testN = trainX.shape[0], testX.shape[0]\n",
        "\n",
        "def transform(X):\n",
        "  x_1 = X[:, 0]\n",
        "  x_2 = X[:, 1]\n",
        "  ones = np.ones_like(x_1)\n",
        "  newX = np.column_stack([ones, x_1, x_2, x_1**2, x_2**2, x_1 * x_2, abs(x_1 - x_2), abs(x_1 + x_2)])\n",
        "  return newX\n",
        "\n",
        "def error(X, Y, w, N):\n",
        "  err = 0\n",
        "  z = transform(X)\n",
        "\n",
        "  for i in range(N):\n",
        "    predict = np.sign(np.dot(w.T, z[i]))\n",
        "    actual = Y[i]\n",
        "    if predict != actual:\n",
        "      err += 1\n",
        "\n",
        "  return err / N\n",
        "\n",
        "def train_and_find_error(k):\n",
        "  l = 10 ** k\n",
        "  transform_len = 8\n",
        "\n",
        "  trainX_transform = transform(trainX)\n",
        "  X_transpose = np.transpose(trainX_transform)\n",
        "  X_transpose_X = np.matmul(X_transpose, trainX_transform)\n",
        "  X_inverse = np.linalg.inv(X_transpose_X + l * np.eye(transform_len))\n",
        "  X_dagger = np.matmul(X_inverse, X_transpose)\n",
        "  w = np.matmul(X_dagger, trainY)\n",
        "\n",
        "  print(\"k:\", k)\n",
        "  print(\"In Sample Error:\", error(trainX, trainY, w, trainN))\n",
        "  print(\"Out Sample Error:\", error(testX, testY, w, testN))\n",
        "  print(\"______________________\")"
      ],
      "metadata": {
        "id": "H8CVv2EQQ--q"
      },
      "execution_count": null,
      "outputs": []
    },
    {
      "cell_type": "code",
      "source": [
        "transform_len = 8\n",
        "\n",
        "trainX_transform = transform(trainX)\n",
        "X_transpose = np.transpose(trainX_transform)\n",
        "X_transpose_X = np.matmul(X_transpose, trainX_transform)\n",
        "X_inverse = np.linalg.inv(X_transpose_X)\n",
        "X_dagger = np.matmul(X_inverse, X_transpose)\n",
        "w = np.matmul(X_dagger, trainY)\n",
        "\n",
        "print(\"In Sample Error:\", error(trainX, trainY, w, trainN))\n",
        "print(\"Out Sample Error:\", error(testX, testY, w, testN))"
      ],
      "metadata": {
        "colab": {
          "base_uri": "https://localhost:8080/"
        },
        "id": "JhW9-IRfS-km",
        "outputId": "b828840d-0030-4944-e3e4-25f010a2660c"
      },
      "execution_count": null,
      "outputs": [
        {
          "output_type": "stream",
          "name": "stdout",
          "text": [
            "In Sample Error: 0.02857142857142857\n",
            "Out Sample Error: 0.084\n"
          ]
        }
      ]
    },
    {
      "cell_type": "code",
      "source": [
        "train_and_find_error(-3)"
      ],
      "metadata": {
        "colab": {
          "base_uri": "https://localhost:8080/"
        },
        "id": "0WvroeBcY3fS",
        "outputId": "ef459a8a-169b-4d5d-dd2a-a4ed56be81ca"
      },
      "execution_count": null,
      "outputs": [
        {
          "output_type": "stream",
          "name": "stdout",
          "text": [
            "k: -3\n",
            "In Sample Error: 0.02857142857142857\n",
            "Out Sample Error: 0.08\n",
            "______________________\n"
          ]
        }
      ]
    },
    {
      "cell_type": "code",
      "source": [
        "train_and_find_error(3)"
      ],
      "metadata": {
        "colab": {
          "base_uri": "https://localhost:8080/"
        },
        "id": "xa3GpKvuZuID",
        "outputId": "b5cae00e-db1f-4e9c-99ba-a7595cad94d5"
      },
      "execution_count": null,
      "outputs": [
        {
          "output_type": "stream",
          "name": "stdout",
          "text": [
            "k: 3\n",
            "In Sample Error: 0.37142857142857144\n",
            "Out Sample Error: 0.436\n",
            "______________________\n"
          ]
        }
      ]
    },
    {
      "cell_type": "code",
      "source": [
        "for i in range(-2, 3):\n",
        "  train_and_find_error(i)"
      ],
      "metadata": {
        "colab": {
          "base_uri": "https://localhost:8080/"
        },
        "id": "YojE9_KyahCZ",
        "outputId": "f7eda288-07aa-426c-d383-6fd7c92240cd"
      },
      "execution_count": null,
      "outputs": [
        {
          "output_type": "stream",
          "name": "stdout",
          "text": [
            "k: -2\n",
            "In Sample Error: 0.02857142857142857\n",
            "Out Sample Error: 0.084\n",
            "______________________\n",
            "k: -1\n",
            "In Sample Error: 0.02857142857142857\n",
            "Out Sample Error: 0.056\n",
            "______________________\n",
            "k: 0\n",
            "In Sample Error: 0.0\n",
            "Out Sample Error: 0.092\n",
            "______________________\n",
            "k: 1\n",
            "In Sample Error: 0.05714285714285714\n",
            "Out Sample Error: 0.124\n",
            "______________________\n",
            "k: 2\n",
            "In Sample Error: 0.2\n",
            "Out Sample Error: 0.228\n",
            "______________________\n"
          ]
        }
      ]
    },
    {
      "cell_type": "markdown",
      "source": [
        "Since k = -3 is under regularizing and k = 3 is over regularizing, we test the integer values between -3 and 3."
      ],
      "metadata": {
        "id": "E3FxLhL9bjFB"
      }
    },
    {
      "cell_type": "code",
      "source": [
        "for i in range(-2, 3):\n",
        "  train_and_find_error(i)"
      ],
      "metadata": {
        "colab": {
          "base_uri": "https://localhost:8080/"
        },
        "id": "K0hpF_nSbXzy",
        "outputId": "734cf16c-578e-4f13-ef66-ca3787f6ff1e"
      },
      "execution_count": null,
      "outputs": [
        {
          "output_type": "stream",
          "name": "stdout",
          "text": [
            "k: -2\n",
            "In Sample Error: 0.02857142857142857\n",
            "Out Sample Error: 0.084\n",
            "______________________\n",
            "k: -1\n",
            "In Sample Error: 0.02857142857142857\n",
            "Out Sample Error: 0.056\n",
            "______________________\n",
            "k: 0\n",
            "In Sample Error: 0.0\n",
            "Out Sample Error: 0.092\n",
            "______________________\n",
            "k: 1\n",
            "In Sample Error: 0.05714285714285714\n",
            "Out Sample Error: 0.124\n",
            "______________________\n",
            "k: 2\n",
            "In Sample Error: 0.2\n",
            "Out Sample Error: 0.228\n",
            "______________________\n"
          ]
        }
      ]
    }
  ]
}