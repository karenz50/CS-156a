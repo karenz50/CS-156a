{
  "nbformat": 4,
  "nbformat_minor": 0,
  "metadata": {
    "colab": {
      "provenance": []
    },
    "kernelspec": {
      "name": "python3",
      "display_name": "Python 3"
    },
    "language_info": {
      "name": "python"
    }
  },
  "cells": [
    {
      "cell_type": "code",
      "execution_count": null,
      "metadata": {
        "id": "Yh5DqTRa94bu"
      },
      "outputs": [],
      "source": [
        "import random\n",
        "import matplotlib.pyplot as plt\n",
        "import numpy as np\n",
        "\n",
        "def random_point():\n",
        "  return [random.uniform(-1, 1), random.uniform(-1, 1)]\n",
        "\n",
        "# get corresponding y_n by evaluating target function on each x_n\n",
        "def find_y(x, m, b):\n",
        "  pos = m * x[0] - x[1] + b\n",
        "  return np.sign(pos)"
      ]
    },
    {
      "cell_type": "code",
      "source": [
        "def generate_points(N):\n",
        "  pt1 = random_point()\n",
        "  pt2 = random_point()\n",
        "\n",
        "  m = (pt2[1] - pt1[1]) / (pt2[0] - pt1[0]) # find slope of line\n",
        "  b = pt1[1] - m * pt1[0]                   # find y-intercept of line\n",
        "\n",
        "  X = []\n",
        "  Y = []\n",
        "  for i in range(N):\n",
        "    new_pt = random_point()\n",
        "    y = find_y(new_pt, m, b)\n",
        "    X.append(new_pt)\n",
        "    Y.append(y)\n",
        "\n",
        "  return np.array(X), np.array(Y)"
      ],
      "metadata": {
        "id": "x2SYkXCe_TUW"
      },
      "execution_count": null,
      "outputs": []
    },
    {
      "cell_type": "code",
      "source": [
        "# pla algorithm\n",
        "MAX_ITER = 10000\n",
        "\n",
        "def pla(X, Y, N):\n",
        "  w = np.zeros(3)\n",
        "  iterations = 0\n",
        "  ones = np.ones((N, 1))\n",
        "  temp_X = np.hstack((ones, X[:N]))\n",
        "\n",
        "  # converge\n",
        "  while iterations < MAX_ITER:\n",
        "    misclassified_pts = []\n",
        "\n",
        "    for i in range(N):\n",
        "      if np.sign(np.dot(w.T, temp_X[i])) != Y[i]:\n",
        "        misclassified_pts.append(i)\n",
        "\n",
        "    # check if classification complete\n",
        "    if not misclassified_pts:\n",
        "      break\n",
        "\n",
        "    # pick random misclassified point and update weight\n",
        "    random_idx = random.choice(misclassified_pts)\n",
        "    w += Y[random_idx] * temp_X[random_idx]\n",
        "\n",
        "    iterations += 1\n",
        "\n",
        "  # estimate disagreement\n",
        "\n",
        "  disagreement = 0\n",
        "  temp_X = X[N:]\n",
        "  f_vals = Y[N:]\n",
        "  g_vals = np.array([np.sign(np.dot(w, [1, x[0], x[1]])) for x in temp_X])\n",
        "  disagreement = np.mean(f_vals != g_vals)\n",
        "\n",
        "  return iterations, disagreement"
      ],
      "metadata": {
        "id": "8vv889FyFayx"
      },
      "execution_count": null,
      "outputs": []
    },
    {
      "cell_type": "code",
      "source": [
        "def run_pla(N, runs):\n",
        "  avg_iter = 0\n",
        "  avg_disagreement = 0\n",
        "\n",
        "  for i in range(runs):\n",
        "    X, Y = generate_points(N + 1000)\n",
        "    cur_iter, cur_disagreement = pla(X, Y, N)\n",
        "    avg_iter += cur_iter\n",
        "    avg_disagreement += cur_disagreement\n",
        "\n",
        "  print(avg_iter / runs)\n",
        "  print(avg_disagreement / runs)"
      ],
      "metadata": {
        "id": "oKeozCg4FWb1"
      },
      "execution_count": null,
      "outputs": []
    },
    {
      "cell_type": "code",
      "source": [
        "# Problem 7 and 8\n",
        "N = 10\n",
        "runs = 1000\n",
        "\n",
        "run_pla(N, runs)"
      ],
      "metadata": {
        "colab": {
          "base_uri": "https://localhost:8080/"
        },
        "id": "htJk3vrVJVyG",
        "outputId": "c8713831-4377-4a88-f8c7-06297ef6e198"
      },
      "execution_count": null,
      "outputs": [
        {
          "output_type": "stream",
          "name": "stdout",
          "text": [
            "8.95\n",
            "0.10664400000000007\n"
          ]
        }
      ]
    },
    {
      "cell_type": "code",
      "source": [
        "# Problem 9 and 10\n",
        "N = 100\n",
        "runs = 1000\n",
        "\n",
        "run_pla(N, runs)"
      ],
      "metadata": {
        "colab": {
          "base_uri": "https://localhost:8080/"
        },
        "id": "ETGjWG84KR_F",
        "outputId": "9aa6d3a0-f538-46dc-91e0-b8425a8b5ae4"
      },
      "execution_count": null,
      "outputs": [
        {
          "output_type": "stream",
          "name": "stdout",
          "text": [
            "117.825\n",
            "0.013924999999999957\n"
          ]
        }
      ]
    }
  ]
}