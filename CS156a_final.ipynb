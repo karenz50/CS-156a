{
  "nbformat": 4,
  "nbformat_minor": 0,
  "metadata": {
    "colab": {
      "provenance": []
    },
    "kernelspec": {
      "name": "python3",
      "display_name": "Python 3"
    },
    "language_info": {
      "name": "python"
    }
  },
  "cells": [
    {
      "cell_type": "code",
      "source": [
        "import numpy as np\n",
        "from cvxopt import matrix, solvers\n",
        "from sklearn.svm import SVC\n",
        "from sklearn.cluster import KMeans\n",
        "from sklearn.linear_model import Ridge"
      ],
      "metadata": {
        "id": "TKC8hsLlOO6a"
      },
      "execution_count": null,
      "outputs": []
    },
    {
      "cell_type": "markdown",
      "source": [
        "Regularized Linear Regression (7-10)"
      ],
      "metadata": {
        "id": "B1AiRyKOIG-0"
      }
    },
    {
      "cell_type": "code",
      "execution_count": null,
      "metadata": {
        "colab": {
          "base_uri": "https://localhost:8080/"
        },
        "id": "wsst0ZdHFXmn",
        "outputId": "139ce408-f920-402f-89f5-bd8bb6f07e03"
      },
      "outputs": [
        {
          "output_type": "stream",
          "name": "stdout",
          "text": [
            "Question 7\n",
            "5 vs all E_in: 0.07625840076807022\n",
            "6 vs all E_in: 0.09107118365107666\n",
            "7 vs all E_in: 0.08846523110684405\n",
            "8 vs all E_in: 0.07433822520916199\n",
            "9 vs all E_in: 0.08832807570977919\n"
          ]
        }
      ],
      "source": [
        "def load_data(file_name):\n",
        "  data = []\n",
        "  with open(file_name, 'r') as in_file:\n",
        "    for line in in_file:\n",
        "      items = line.strip().split()\n",
        "      digit = int(float(items[0]))\n",
        "      intensity = float(items[1])\n",
        "      symmetry = float(items[2])\n",
        "      data.append([digit, intensity, symmetry])\n",
        "\n",
        "  return np.array(data)\n",
        "\n",
        "def reg_lin_reg(Z, Y, lambd):\n",
        "  N, d = Z.shape\n",
        "  reg_mat = lambd * np.identity(d)\n",
        "  w = np.linalg.inv(np.dot(Z.T, Z) + reg_mat).dot(np.dot(Z.T, Y))\n",
        "  return w\n",
        "\n",
        "def get_error(Z, y, w):\n",
        "  predictions = np.sign(np.dot(Z, w))\n",
        "  e_in = np.mean(predictions != y)\n",
        "  return e_in\n",
        "\n",
        "def q7():\n",
        "  train_data = load_data(\"features.train\")\n",
        "  trainX = train_data[:, 1:]\n",
        "  N = trainX.shape[0]\n",
        "  trainZ = np.hstack((np.ones((N, 1)), trainX))\n",
        "\n",
        "  digits = range(5, 10)\n",
        "  lambd = 1\n",
        "\n",
        "  for digit in digits:\n",
        "    trainY = np.where(train_data[:, 0] == digit, 1, -1)\n",
        "    w = reg_lin_reg(trainZ, trainY, lambd)\n",
        "    print(f\"{digit} vs all E_in: {get_error(trainZ, trainY, w)}\")\n",
        "\n",
        "print(\"Question 7\")\n",
        "q7()"
      ]
    },
    {
      "cell_type": "code",
      "source": [
        "def transform(X):\n",
        "  x_1 = X[:, 0]\n",
        "  x_2 = X[:, 1]\n",
        "  ones = np.ones_like(x_1)\n",
        "  Z = np.column_stack([ones, x_1, x_2, x_1 * x_2, x_1**2, x_2**2])\n",
        "  return Z\n",
        "\n",
        "def q8():\n",
        "  train_data = load_data(\"features.train\")\n",
        "  test_data = load_data(\"features.test\")\n",
        "\n",
        "  trainZ = transform(train_data[:, 1:])\n",
        "  testZ = transform(test_data[:, 1:])\n",
        "\n",
        "  digits = range(0, 5)\n",
        "  lambd = 1\n",
        "\n",
        "  for digit in digits:\n",
        "    trainY = np.where(train_data[:, 0] == digit, 1, -1)\n",
        "    testY = np.where(test_data[:, 0] == digit, 1, -1)\n",
        "    w = reg_lin_reg(trainZ, trainY, lambd)\n",
        "    print(f\"{digit} vs all E_out: {get_error(testZ, testY, w)}\")\n",
        "\n",
        "print(\"Question 8\")\n",
        "q8()"
      ],
      "metadata": {
        "colab": {
          "base_uri": "https://localhost:8080/"
        },
        "id": "PS_WSY92Q22L",
        "outputId": "8a8ab4b8-1079-4f92-e819-cc415d9eb8d7"
      },
      "execution_count": null,
      "outputs": [
        {
          "output_type": "stream",
          "name": "stdout",
          "text": [
            "Question 8\n",
            "0 vs all E_out: 0.10662680617837568\n",
            "1 vs all E_out: 0.02192326856003986\n",
            "2 vs all E_out: 0.09865470852017937\n",
            "3 vs all E_out: 0.08271051320378675\n",
            "4 vs all E_out: 0.09965122072745392\n"
          ]
        }
      ]
    },
    {
      "cell_type": "code",
      "source": [
        "def q9():\n",
        "  train_data = load_data(\"features.train\")\n",
        "  test_data = load_data(\"features.test\")\n",
        "\n",
        "  trainX = train_data[:, 1:]\n",
        "  N = trainX.shape[0]\n",
        "  trainZ = np.hstack((np.ones((N, 1)), trainX))\n",
        "  trainZ_transform = transform(trainX)\n",
        "\n",
        "  testX = test_data[:, 1:]\n",
        "  N_test = testX.shape[0]\n",
        "  testZ = np.hstack((np.ones((N_test, 1)), testX))\n",
        "  testZ_transform = transform(testX)\n",
        "\n",
        "  digits = range(0, 10)\n",
        "  lambd = 1\n",
        "\n",
        "  for digit in digits:\n",
        "    trainY = np.where(train_data[:, 0] == digit, 1, -1)\n",
        "    testY = np.where(test_data[:, 0] == digit, 1, -1)\n",
        "    w = reg_lin_reg(trainZ, trainY, lambd)\n",
        "    w_transform = reg_lin_reg(trainZ_transform, trainY, lambd)\n",
        "    print(f\"{digit} vs all E_in: {get_error(trainZ, trainY, w)}\")\n",
        "    print(f\"{digit} vs all E_in (transform): {get_error(trainZ_transform, trainY, w_transform)}\")\n",
        "    print(f\"{digit} vs all E_out: {get_error(testZ, testY, w)}\")\n",
        "    print(f\"{digit} vs all E_out (transform): {get_error(testZ_transform, testY, w_transform)}\\n\")\n",
        "\n",
        "print(\"Question 9\")\n",
        "q9()"
      ],
      "metadata": {
        "colab": {
          "base_uri": "https://localhost:8080/"
        },
        "id": "DkGzb3wjSJGB",
        "outputId": "ed8b84cb-539a-4d05-a198-032badbb03d0"
      },
      "execution_count": null,
      "outputs": [
        {
          "output_type": "stream",
          "name": "stdout",
          "text": [
            "Question 9\n",
            "0 vs all E_in: 0.10931285146070498\n",
            "0 vs all E_in (transform): 0.10231792621039638\n",
            "0 vs all E_out: 0.11509715994020926\n",
            "0 vs all E_out (transform): 0.10662680617837568\n",
            "\n",
            "1 vs all E_in: 0.01522424907420107\n",
            "1 vs all E_in (transform): 0.012343985735838706\n",
            "1 vs all E_out: 0.02242152466367713\n",
            "1 vs all E_out (transform): 0.02192326856003986\n",
            "\n",
            "2 vs all E_in: 0.10026059525442327\n",
            "2 vs all E_in (transform): 0.10026059525442327\n",
            "2 vs all E_out: 0.09865470852017937\n",
            "2 vs all E_out (transform): 0.09865470852017937\n",
            "\n",
            "3 vs all E_in: 0.09024825126868742\n",
            "3 vs all E_in (transform): 0.09024825126868742\n",
            "3 vs all E_out: 0.08271051320378675\n",
            "3 vs all E_out (transform): 0.08271051320378675\n",
            "\n",
            "4 vs all E_in: 0.08942531888629818\n",
            "4 vs all E_in (transform): 0.08942531888629818\n",
            "4 vs all E_out: 0.09965122072745392\n",
            "4 vs all E_out (transform): 0.09965122072745392\n",
            "\n",
            "5 vs all E_in: 0.07625840076807022\n",
            "5 vs all E_in (transform): 0.07625840076807022\n",
            "5 vs all E_out: 0.07972097658196313\n",
            "5 vs all E_out (transform): 0.07922272047832586\n",
            "\n",
            "6 vs all E_in: 0.09107118365107666\n",
            "6 vs all E_in (transform): 0.09107118365107666\n",
            "6 vs all E_out: 0.08470353761833582\n",
            "6 vs all E_out (transform): 0.08470353761833582\n",
            "\n",
            "7 vs all E_in: 0.08846523110684405\n",
            "7 vs all E_in (transform): 0.08846523110684405\n",
            "7 vs all E_out: 0.07324364723467862\n",
            "7 vs all E_out (transform): 0.07324364723467862\n",
            "\n",
            "8 vs all E_in: 0.07433822520916199\n",
            "8 vs all E_in (transform): 0.07433822520916199\n",
            "8 vs all E_out: 0.08271051320378675\n",
            "8 vs all E_out (transform): 0.08271051320378675\n",
            "\n",
            "9 vs all E_in: 0.08832807570977919\n",
            "9 vs all E_in (transform): 0.08832807570977919\n",
            "9 vs all E_out: 0.08819133034379671\n",
            "9 vs all E_out (transform): 0.08819133034379671\n",
            "\n"
          ]
        }
      ]
    },
    {
      "cell_type": "code",
      "source": [
        "def filter_data_15(data):\n",
        "  X = data[:, 1:]\n",
        "  y = data[:, 0]\n",
        "  filteredX = X[(y == 1) | (y == 5)]\n",
        "  filteredY = y[(y == 1) | (y == 5)]\n",
        "  binY = np.where(filteredY == 1, 1, -1)\n",
        "  return transform(filteredX), binY\n",
        "\n",
        "def q10():\n",
        "    train_data = load_data(\"features.train\")\n",
        "    test_data = load_data(\"features.test\")\n",
        "\n",
        "    trainZ, trainY = filter_data_15(train_data)\n",
        "    testZ, testY = filter_data_15(test_data)\n",
        "\n",
        "    lambdas = [0.01, 1]\n",
        "\n",
        "    for lambd in lambdas:\n",
        "        w = reg_lin_reg(trainZ, trainY, lambd)\n",
        "        e_in = get_error(trainZ, trainY, w)\n",
        "        e_out = get_error(testZ, testY, w)\n",
        "\n",
        "        print(f\"Lambda = {lambd}:\")\n",
        "        print(f\"E_in: {e_in}\")\n",
        "        print(f\"E_out: {e_out}\\n\")\n",
        "\n",
        "q10()"
      ],
      "metadata": {
        "colab": {
          "base_uri": "https://localhost:8080/"
        },
        "id": "fCC_kc35TfTl",
        "outputId": "342ea769-0ea2-4737-882a-8f7306ca5865"
      },
      "execution_count": null,
      "outputs": [
        {
          "output_type": "stream",
          "name": "stdout",
          "text": [
            "Lambda = 0.01:\n",
            "E_in: 0.004484304932735426\n",
            "E_out: 0.02830188679245283\n",
            "\n",
            "Lambda = 1:\n",
            "E_in: 0.005124919923126201\n",
            "E_out: 0.025943396226415096\n",
            "\n"
          ]
        }
      ]
    },
    {
      "cell_type": "markdown",
      "source": [
        "SVM 11-12"
      ],
      "metadata": {
        "id": "RTD-4z6vgc4a"
      }
    },
    {
      "cell_type": "code",
      "source": [
        "data = np.array([\n",
        "    [1, 0, -1],\n",
        "    [0, 1, -1],\n",
        "    [0, -1, -1],\n",
        "    [-1, 0, 1],\n",
        "    [0, 2, 1],\n",
        "    [0, -2, 1],\n",
        "    [-2, 0, 1]\n",
        "])\n",
        "\n",
        "X = data[:, :2]\n",
        "y = data[:, 2]\n",
        "N = len(y)\n",
        "\n",
        "K = np.zeros((N, N))\n",
        "for i in range(N):\n",
        "  for j in range(N):\n",
        "      K[i, j] = (1 + np.dot(X[i], X[j])) ** 2\n",
        "\n",
        "P = matrix(np.outer(y, y) * K)\n",
        "q = matrix(-np.ones(N))\n",
        "G = matrix(-np.eye(N))\n",
        "h = matrix(np.zeros(N))\n",
        "A = matrix(y, (1, N), 'd')\n",
        "b = matrix(0.0)\n",
        "\n",
        "solvers.options[\"show_progress\"] = False\n",
        "solution = solvers.qp(P, q, G, h, A, b)\n",
        "w = np.array(solution['x']).flatten()\n",
        "\n",
        "threshold = 1e-4\n",
        "support_vectors = np.where(w > threshold)[0]\n",
        "\n",
        "print(f\"Number of support vectors: {len(support_vectors)}\")"
      ],
      "metadata": {
        "id": "FKKuLEbsg1qD",
        "colab": {
          "base_uri": "https://localhost:8080/"
        },
        "outputId": "88837f84-dfc7-407f-f03a-1e88b370fa2d"
      },
      "execution_count": null,
      "outputs": [
        {
          "output_type": "stream",
          "name": "stdout",
          "text": [
            "Number of support vectors: 5\n"
          ]
        }
      ]
    },
    {
      "cell_type": "markdown",
      "source": [
        "RBF 13-18"
      ],
      "metadata": {
        "id": "oq5JoJO9mHP5"
      }
    },
    {
      "cell_type": "code",
      "source": [
        "def target_function(X):\n",
        "    x1 = X[:, 0]\n",
        "    x2 = X[:, 1]\n",
        "    return np.sign(x2 - x1 + 0.25 * np.sin(np.pi * x1))\n",
        "\n",
        "def q13():\n",
        "  gamma = 1.5\n",
        "  N = 100\n",
        "  runs = 1000\n",
        "  not_separable_count = 0\n",
        "\n",
        "  for run in range(runs):\n",
        "      X = np.random.uniform(-1, 1, size=(N, 2))\n",
        "      y = target_function(X)\n",
        "\n",
        "      svm = SVC(kernel=\"rbf\", gamma=10, C=1e3)\n",
        "      svm.fit(X, y)\n",
        "      y_pred = svm.predict(X)\n",
        "      e_in = np.mean(y_pred != y)\n",
        "\n",
        "      if e_in > 0:\n",
        "          not_separable_count += 1\n",
        "\n",
        "  percent_not_separable = (not_separable_count / runs) * 100\n",
        "  print(\"Question 13\")\n",
        "  print(f\"Percent not seperable: {percent_not_separable}\")\n",
        "\n",
        "q13()"
      ],
      "metadata": {
        "colab": {
          "base_uri": "https://localhost:8080/"
        },
        "id": "Vcr9uebbmNkD",
        "outputId": "b626f12c-e189-4ba0-d3fa-a6ddde56af80"
      },
      "execution_count": null,
      "outputs": [
        {
          "output_type": "stream",
          "name": "stdout",
          "text": [
            "Question 13\n",
            "Percent not seperable: 0.2\n"
          ]
        }
      ]
    },
    {
      "cell_type": "code",
      "source": [
        "def lloyd_kmeans(X, K):\n",
        "  kmeans = KMeans(n_clusters=K, n_init=10, max_iter=300)\n",
        "  kmeans.fit(X)\n",
        "  centers = kmeans.cluster_centers_\n",
        "  labels = kmeans.labels_\n",
        "  return centers, labels\n",
        "\n",
        "def get_rbf_features(X, centers, gamma):\n",
        "  Z = np.exp(-gamma * np.linalg.norm(X[:, np.newaxis] - centers, axis=2) ** 2)\n",
        "  return Z\n",
        "\n",
        "def train_linear_model(Z, y):\n",
        "  Z_with_bias = np.hstack((np.ones((Z.shape[0], 1)), Z))\n",
        "  ridge = Ridge(alpha=1e-8, fit_intercept=False)\n",
        "  ridge.fit(Z_with_bias, y)\n",
        "  w = ridge.coef_\n",
        "  return w\n",
        "\n",
        "def train_kernel_svm(X, y, gamma):\n",
        "  svm = SVC(kernel=\"rbf\", gamma=gamma, C=1e10)\n",
        "  svm.fit(X, y)\n",
        "  if svm.score(X, y) < 1.0:\n",
        "      return None\n",
        "  return svm\n",
        "\n",
        "def error(model, model_type, testX, testY, centers=None, gamma=None):\n",
        "  if model_type == \"regular\":\n",
        "      testZ = get_rbf_features(testX, centers, gamma)\n",
        "      temp_testZ = np.hstack((np.ones((testZ.shape[0], 1)), testZ))\n",
        "      predictions = np.sign(np.dot(temp_testZ, model))\n",
        "  elif model_type == \"kernel\":\n",
        "      predictions = model.predict(testX)\n",
        "\n",
        "  err = np.mean(predictions != testY)\n",
        "  return err\n",
        "\n",
        "def q14():\n",
        "  num_runs = 1000\n",
        "  N_train = 100\n",
        "  N_test = 1000\n",
        "  K = 9\n",
        "  gamma = 1.5\n",
        "\n",
        "  num_valid_runs = 0\n",
        "  num_kernel_better = 0\n",
        "\n",
        "  for run in range(num_runs):\n",
        "    trainX = np.random.uniform(-1, 1, (N_train, 2))\n",
        "    trainY = target_function(trainX)\n",
        "    testX = np.random.uniform(-1, 1, (N_test, 2))\n",
        "    testY = target_function(testX)\n",
        "\n",
        "    centers, labels = lloyd_kmeans(trainX, K)\n",
        "    if len(np.unique(labels)) < K:\n",
        "      continue\n",
        "\n",
        "    trainZ = get_rbf_features(trainX, centers, gamma)\n",
        "    w = train_linear_model(trainZ, trainY)\n",
        "    e_out_reg = error(w, \"regular\", testX, testY, centers, gamma)\n",
        "\n",
        "    svm = train_kernel_svm(trainX, trainY, gamma)\n",
        "    if svm is None:\n",
        "      continue\n",
        "\n",
        "    e_out_kernel = error(svm, \"kernel\", testX, testY)\n",
        "\n",
        "    if e_out_kernel < e_out_reg:\n",
        "      num_kernel_better += 1\n",
        "    num_valid_runs += 1\n",
        "\n",
        "  percent_kernel_better = (num_kernel_better / num_valid_runs) * 100\n",
        "  print(\"Question 14\")\n",
        "  print(f\"Percent runs where Kernel RBF better: {percent_kernel_better:}%\")\n",
        "\n",
        "q14()"
      ],
      "metadata": {
        "colab": {
          "base_uri": "https://localhost:8080/"
        },
        "id": "TxmTehoZdTMa",
        "outputId": "9a3ae3ca-5b34-4596-b80c-bff289e80239"
      },
      "execution_count": null,
      "outputs": [
        {
          "output_type": "stream",
          "name": "stdout",
          "text": [
            "Question 14\n",
            "Percent runs where Kernel RBF better: 91.5%\n"
          ]
        }
      ]
    },
    {
      "cell_type": "code",
      "source": [
        "def q15():\n",
        "  num_runs = 1000\n",
        "  N_train = 100\n",
        "  N_test = 1000\n",
        "  K = 12\n",
        "  gamma = 1.5\n",
        "\n",
        "  num_valid_runs = 0\n",
        "  num_kernel_better = 0\n",
        "\n",
        "  for run in range(num_runs):\n",
        "    trainX = np.random.uniform(-1, 1, (N_train, 2))\n",
        "    trainY = target_function(trainX)\n",
        "    testX = np.random.uniform(-1, 1, (N_test, 2))\n",
        "    testY = target_function(testX)\n",
        "\n",
        "    centers, labels = lloyd_kmeans(trainX, K)\n",
        "    if len(np.unique(labels)) < K:\n",
        "        continue\n",
        "\n",
        "    trainZ = get_rbf_features(trainX, centers, gamma)\n",
        "    w = train_linear_model(trainZ, trainY)\n",
        "    e_out_reg = error(w, \"regular\", testX, testY, centers, gamma)\n",
        "\n",
        "    svm = train_kernel_svm(trainX, trainY, gamma)\n",
        "    if svm is None:\n",
        "      continue\n",
        "\n",
        "    e_out_kernel = error(svm, \"kernel\", testX, testY)\n",
        "\n",
        "    if e_out_kernel < e_out_reg:\n",
        "      num_kernel_better += 1\n",
        "    num_valid_runs += 1\n",
        "\n",
        "  percent_kernel_better = (num_kernel_better / num_valid_runs) * 100\n",
        "  print(\"Question 15\")\n",
        "  print(f\"Percent runs where Kernel RBF better: {percent_kernel_better}%\")\n",
        "\n",
        "q15()"
      ],
      "metadata": {
        "colab": {
          "base_uri": "https://localhost:8080/"
        },
        "id": "3iRz_pIQkrMs",
        "outputId": "105df60e-8b36-48de-95ec-64e1cc00a326"
      },
      "execution_count": null,
      "outputs": [
        {
          "output_type": "stream",
          "name": "stdout",
          "text": [
            "Question 15\n",
            "Percent runs where Kernel RBF better: 83.3%\n"
          ]
        }
      ]
    },
    {
      "cell_type": "code",
      "source": [
        "def q16(K):\n",
        "  num_runs = 1000\n",
        "  N_train = 100\n",
        "  N_test = 1000\n",
        "  gamma = 1.5\n",
        "\n",
        "  num_valid_runs = 0\n",
        "  num_kernel_better = 0\n",
        "  total_ein = 0\n",
        "  total_eout = 0\n",
        "\n",
        "  print(f\"K value {K}\")\n",
        "\n",
        "  for run in range(num_runs):\n",
        "    trainX = np.random.uniform(-1, 1, (N_train, 2))\n",
        "    trainY = target_function(trainX)\n",
        "    testX = np.random.uniform(-1, 1, (N_test, 2))\n",
        "    testY = target_function(testX)\n",
        "\n",
        "    centers, labels = lloyd_kmeans(trainX, K)\n",
        "    if len(np.unique(labels)) < K:\n",
        "        continue\n",
        "\n",
        "    trainZ = get_rbf_features(trainX, centers, gamma)\n",
        "    w = train_linear_model(trainZ, trainY)\n",
        "    total_ein += error(w, \"regular\", trainX, trainY, centers, gamma)\n",
        "    total_eout += error(w, \"regular\", testX, testY, centers, gamma)\n",
        "\n",
        "  print(f\"e_in: {total_ein / num_runs}\")\n",
        "  print(f\"e_out: {total_eout / num_runs}\")\n",
        "\n",
        "print(\"Question 16\")\n",
        "q16(9)\n",
        "q16(12)"
      ],
      "metadata": {
        "colab": {
          "base_uri": "https://localhost:8080/"
        },
        "id": "oRti2j5KIVO5",
        "outputId": "23b7daa8-34bb-4c7c-b676-a3b6ad93ac21"
      },
      "execution_count": null,
      "outputs": [
        {
          "output_type": "stream",
          "name": "stdout",
          "text": [
            "Question 16\n",
            "K value 9\n",
            "e_in: 0.03532000000000003\n",
            "e_out: 0.05806699999999991\n",
            "K value 12\n",
            "e_in: 0.021779999999999945\n",
            "e_out: 0.04642399999999993\n"
          ]
        }
      ]
    },
    {
      "cell_type": "code",
      "source": [
        "def q17(gamma):\n",
        "  num_runs = 1000\n",
        "  N_train = 100\n",
        "  N_test = 1000\n",
        "  K = 9\n",
        "\n",
        "  num_valid_runs = 0\n",
        "  num_kernel_better = 0\n",
        "  total_ein = 0\n",
        "  total_eout = 0\n",
        "\n",
        "  print(f\"gamma value {gamma}\")\n",
        "\n",
        "  for run in range(num_runs):\n",
        "    trainX = np.random.uniform(-1, 1, (N_train, 2))\n",
        "    trainY = target_function(trainX)\n",
        "    testX = np.random.uniform(-1, 1, (N_test, 2))\n",
        "    testY = target_function(testX)\n",
        "\n",
        "    centers, labels = lloyd_kmeans(trainX, K)\n",
        "    if len(np.unique(labels)) < K:\n",
        "        continue\n",
        "\n",
        "    trainZ = get_rbf_features(trainX, centers, gamma)\n",
        "    w = train_linear_model(trainZ, trainY)\n",
        "    total_ein += error(w, \"regular\", trainX, trainY, centers, gamma)\n",
        "    total_eout += error(w, \"regular\", testX, testY, centers, gamma)\n",
        "\n",
        "  print(f\"e_in: {total_ein / num_runs}\")\n",
        "  print(f\"e_out: {total_eout / num_runs}\")\n",
        "\n",
        "print(\"Question 17\")\n",
        "q17(1.5)\n",
        "q17(2)"
      ],
      "metadata": {
        "colab": {
          "base_uri": "https://localhost:8080/"
        },
        "id": "lHad81iiOu0m",
        "outputId": "be67f30b-9bd0-4d34-d8f9-776e29741966"
      },
      "execution_count": null,
      "outputs": [
        {
          "output_type": "stream",
          "name": "stdout",
          "text": [
            "Question 17\n",
            "gamma value 1.5\n",
            "e_in: 0.03408000000000002\n",
            "e_out: 0.05919599999999992\n",
            "gamma value 2\n",
            "e_in: 0.03903999999999997\n",
            "e_out: 0.06334500000000007\n"
          ]
        }
      ]
    },
    {
      "cell_type": "code",
      "source": [
        "def q18():\n",
        "  num_runs = 1000\n",
        "  N_train = 100\n",
        "  N_test = 1000\n",
        "  K = 9\n",
        "  gamma = 1.5\n",
        "\n",
        "  num_valid_runs = 0\n",
        "  num_kernel_better = 0\n",
        "  zero_ein = 0\n",
        "\n",
        "  for run in range(num_runs):\n",
        "    trainX = np.random.uniform(-1, 1, (N_train, 2))\n",
        "    trainY = target_function(trainX)\n",
        "    testX = np.random.uniform(-1, 1, (N_test, 2))\n",
        "    testY = target_function(testX)\n",
        "\n",
        "    centers, labels = lloyd_kmeans(trainX, K)\n",
        "    if len(np.unique(labels)) < K:\n",
        "        continue\n",
        "\n",
        "    trainZ = get_rbf_features(trainX, centers, gamma)\n",
        "    w = train_linear_model(trainZ, trainY)\n",
        "    e_in =  error(w, \"regular\", trainX, trainY, centers, gamma)\n",
        "\n",
        "    if e_in == 0:\n",
        "      zero_ein += 1\n",
        "\n",
        "  print(f\"Percent time e_in is 0: {(zero_ein / num_runs) * 100}\")\n",
        "\n",
        "print(\"Question 18\")\n",
        "q18()"
      ],
      "metadata": {
        "colab": {
          "base_uri": "https://localhost:8080/"
        },
        "id": "ldqW_7k4PVau",
        "outputId": "65ef1833-c5c3-48b0-df29-c2f139efa2e8"
      },
      "execution_count": null,
      "outputs": [
        {
          "output_type": "stream",
          "name": "stdout",
          "text": [
            "Question 18\n",
            "Percent time e_in is 0: 1.7000000000000002\n"
          ]
        }
      ]
    }
  ]
}