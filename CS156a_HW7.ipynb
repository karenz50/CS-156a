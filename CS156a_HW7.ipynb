{
  "nbformat": 4,
  "nbformat_minor": 0,
  "metadata": {
    "colab": {
      "provenance": []
    },
    "kernelspec": {
      "name": "python3",
      "display_name": "Python 3"
    },
    "language_info": {
      "name": "python"
    }
  },
  "cells": [
    {
      "cell_type": "code",
      "execution_count": null,
      "metadata": {
        "colab": {
          "base_uri": "https://localhost:8080/"
        },
        "id": "hZjfKove2Q97",
        "outputId": "bc24a095-0bc8-45da-940d-e54b026ef36c"
      },
      "outputs": [
        {
          "output_type": "stream",
          "name": "stdout",
          "text": [
            "Downloaded training data\n",
            "Downloaded test data\n"
          ]
        }
      ],
      "source": [
        "import requests\n",
        "\n",
        "try:\n",
        "  with open(\"in.dta\", \"x\") as infile:\n",
        "    request_in = requests.get(\"http://work.caltech.edu/data/in.dta\")\n",
        "    infile.write(request_in.text)\n",
        "    print(\"Downloaded training data\")\n",
        "except FileExistsError as e:\n",
        "  print(\"Training data already downloaded\")\n",
        "\n",
        "try:\n",
        "  outfile = open(\"out.dta\", \"x\")\n",
        "  request_out = requests.get(\"http://work.caltech.edu/data/out.dta\")\n",
        "  outfile.write(request_out.text)\n",
        "  print(\"Downloaded test data\")\n",
        "except FileExistsError as e:\n",
        "  print(\"Test data already downloaded\")"
      ]
    },
    {
      "cell_type": "code",
      "source": [
        "import numpy as np\n",
        "import matplotlib.pyplot as plt\n",
        "\n",
        "train_data = np.loadtxt(\"in.dta\")\n",
        "test_data = np.loadtxt(\"out.dta\")\n",
        "\n",
        "def transform(X):\n",
        "  x_1 = X[:, 0]\n",
        "  x_2 = X[:, 1]\n",
        "  ones = np.ones_like(x_1)\n",
        "  newX = np.column_stack([ones, x_1, x_2, x_1**2, x_2**2, x_1 * x_2, abs(x_1 - x_2), abs(x_1 + x_2)])\n",
        "  return newX\n",
        "\n",
        "def error(X, Y, w, k, N):\n",
        "  err = 0\n",
        "  z = transform(X)[:, :k + 1]\n",
        "\n",
        "  for i in range(N):\n",
        "    predict = np.sign(np.dot(w.T, z[i]))\n",
        "    actual = Y[i]\n",
        "    if predict != actual:\n",
        "      err += 1\n",
        "\n",
        "  return err / N"
      ],
      "metadata": {
        "id": "L6O7gsgv3RJy"
      },
      "execution_count": null,
      "outputs": []
    },
    {
      "cell_type": "code",
      "source": [
        "trainN = 25\n",
        "\n",
        "trainX, trainY = train_data[:trainN, :2], train_data[:trainN, 2]\n",
        "valX, valY = train_data[trainN:, :2], train_data[trainN:, 2]\n",
        "testX, testY = test_data[:, :2], test_data[:, 2]\n",
        "\n",
        "for k in range(3, 8):\n",
        "  trainX_transform = transform(trainX)[:, :k + 1]\n",
        "  X_transpose = np.transpose(trainX_transform)\n",
        "  X_transpose_X = np.matmul(X_transpose, trainX_transform)\n",
        "  X_inverse = np.linalg.inv(X_transpose_X)\n",
        "  X_dagger = np.matmul(X_inverse, X_transpose)\n",
        "  w = np.matmul(X_dagger, trainY)\n",
        "\n",
        "  print(\"k:\", k)\n",
        "  print(\"Validation Sample Error:\", error(valX, valY, w, k, valX.shape[0]))\n",
        "  print(\"Out Sample Error:\", error(testX, testY, w, k, testX.shape[0]))\n",
        "  print(\"______________________\")"
      ],
      "metadata": {
        "colab": {
          "base_uri": "https://localhost:8080/"
        },
        "id": "nMngPj8U7BJS",
        "outputId": "ab817d07-021d-4473-8419-df6f2321726f"
      },
      "execution_count": null,
      "outputs": [
        {
          "output_type": "stream",
          "name": "stdout",
          "text": [
            "k: 3\n",
            "Validation Sample Error: 0.3\n",
            "Out Sample Error: 0.42\n",
            "______________________\n",
            "k: 4\n",
            "Validation Sample Error: 0.5\n",
            "Out Sample Error: 0.416\n",
            "______________________\n",
            "k: 5\n",
            "Validation Sample Error: 0.2\n",
            "Out Sample Error: 0.188\n",
            "______________________\n",
            "k: 6\n",
            "Validation Sample Error: 0.0\n",
            "Out Sample Error: 0.084\n",
            "______________________\n",
            "k: 7\n",
            "Validation Sample Error: 0.1\n",
            "Out Sample Error: 0.072\n",
            "______________________\n"
          ]
        }
      ]
    },
    {
      "cell_type": "code",
      "source": [
        "trainX, trainY = valX, valY\n",
        "valX, valY = train_data[:trainN, :2], train_data[:trainN, 2]\n",
        "testX, testY = test_data[:, :2], test_data[:, 2]\n",
        "\n",
        "trainN = 10\n",
        "\n",
        "for k in range(3, 8):\n",
        "  trainX_transform = transform(trainX)[:, :k + 1]\n",
        "  X_transpose = np.transpose(trainX_transform)\n",
        "  X_transpose_X = np.matmul(X_transpose, trainX_transform)\n",
        "  X_inverse = np.linalg.inv(X_transpose_X)\n",
        "  X_dagger = np.matmul(X_inverse, X_transpose)\n",
        "  w = np.matmul(X_dagger, trainY)\n",
        "\n",
        "  print(\"k:\", k)\n",
        "  print(\"Validation Sample Error:\", error(valX, valY, w, k, valX.shape[0]))\n",
        "  print(\"Out Sample Error:\", error(testX, testY, w, k, testX.shape[0]))\n",
        "  print(\"______________________\")"
      ],
      "metadata": {
        "colab": {
          "base_uri": "https://localhost:8080/"
        },
        "id": "uKYN57mR8xhz",
        "outputId": "f42c4372-011d-4a9b-c056-db2ac5a3528b"
      },
      "execution_count": null,
      "outputs": [
        {
          "output_type": "stream",
          "name": "stdout",
          "text": [
            "k: 3\n",
            "Validation Sample Error: 0.28\n",
            "Out Sample Error: 0.396\n",
            "______________________\n",
            "k: 4\n",
            "Validation Sample Error: 0.36\n",
            "Out Sample Error: 0.388\n",
            "______________________\n",
            "k: 5\n",
            "Validation Sample Error: 0.2\n",
            "Out Sample Error: 0.284\n",
            "______________________\n",
            "k: 6\n",
            "Validation Sample Error: 0.08\n",
            "Out Sample Error: 0.192\n",
            "______________________\n",
            "k: 7\n",
            "Validation Sample Error: 0.12\n",
            "Out Sample Error: 0.196\n",
            "______________________\n"
          ]
        }
      ]
    },
    {
      "cell_type": "markdown",
      "source": [
        "Choosing k = 6 for both chosen models since these have the smallest validation error, we have\n",
        "\n",
        ".084, .0192"
      ],
      "metadata": {
        "id": "l7HvejYJ-HfO"
      }
    },
    {
      "cell_type": "code",
      "source": [
        "runs = 10000\n",
        "\n",
        "ind_var = np.random.uniform(0, 1, (runs, 3))\n",
        "\n",
        "for row in range(runs):\n",
        "    ind_var[row, 2] = min(ind_var[row ,0],ind_var[row ,1])\n",
        "\n",
        "print(f'e_1 = {np.mean(ind_var[:, 0])}')\n",
        "print(f'e_2 = {np.mean(ind_var[:, 1])}')\n",
        "print(f'min(e_1, e_2) = {np.mean(ind_var[:, 2])}')"
      ],
      "metadata": {
        "colab": {
          "base_uri": "https://localhost:8080/"
        },
        "id": "6kkW7-v4-S_U",
        "outputId": "c366ffca-583d-45d5-c456-734d46d92cff"
      },
      "execution_count": null,
      "outputs": [
        {
          "output_type": "stream",
          "name": "stdout",
          "text": [
            "e_1 = 0.5009784931948063\n",
            "e_2 = 0.49919132413141626\n",
            "min(e_1, e_2) = 0.3339825099140385\n"
          ]
        }
      ]
    },
    {
      "cell_type": "code",
      "source": [
        "import random\n",
        "from cvxopt import matrix, solvers\n",
        "\n",
        "MAX_ITER = 10000\n",
        "\n",
        "def random_point():\n",
        "    return [np.random.uniform(-1, 1), np.random.uniform(-1, 1)]\n",
        "\n",
        "def find_y(x, m, b):\n",
        "    pos = m * x[0] - x[1] + b\n",
        "    return np.sign(pos)\n",
        "\n",
        "def generate_points(N):\n",
        "  while True:\n",
        "    pt1 = random_point()\n",
        "    pt2 = random_point()\n",
        "    while pt1[0] == pt2[0]:\n",
        "      pt2 = random_point()\n",
        "\n",
        "    m = (pt2[1] - pt1[1]) / (pt2[0] - pt1[0])\n",
        "    b = pt1[1] - m * pt1[0]\n",
        "\n",
        "    X = []\n",
        "    Y = []\n",
        "\n",
        "    for i in range(N):\n",
        "      new_pt = random_point()\n",
        "      y = find_y(new_pt, m, b)\n",
        "      X.append(new_pt)\n",
        "      Y.append(y)\n",
        "\n",
        "    X = np.array(X)\n",
        "    Y = np.array(Y)\n",
        "\n",
        "    if not (np.all(Y == 1) or np.all(Y == -1)):\n",
        "      break\n",
        "\n",
        "  return X, Y, m, b\n",
        "\n",
        "def pla(X, Y):\n",
        "  N = X.shape[0]\n",
        "  w = np.zeros(3)\n",
        "  iterations = 0\n",
        "  ones = np.ones((N, 1))\n",
        "  X_aug = np.hstack((ones, X))\n",
        "\n",
        "  while iterations < MAX_ITER:\n",
        "    predictions = np.sign(np.dot(X_aug, w))\n",
        "    misclassified = np.where(predictions != Y)[0]\n",
        "\n",
        "    if misclassified.size == 0:\n",
        "      break\n",
        "\n",
        "    random_idx = random.choice(misclassified)\n",
        "    w += Y[random_idx] * X_aug[random_idx]\n",
        "\n",
        "    iterations += 1\n",
        "\n",
        "  return w, iterations\n",
        "\n",
        "def svm(X, Y):\n",
        "  N, dim = X.shape\n",
        "\n",
        "  # get into standard QP form\n",
        "  P = np.zeros((dim + 1, dim + 1))\n",
        "  P[:dim, :dim] = np.eye(dim)\n",
        "  q = np.zeros(dim + 1)\n",
        "\n",
        "  # constraints G x <= h\n",
        "  G = np.zeros((N, dim + 1))\n",
        "  h = np.zeros(N)\n",
        "\n",
        "  for i in range(N):\n",
        "    G[i, :dim] = -Y[i] * X[i]\n",
        "    G[i, dim] = -Y[i] * 1\n",
        "    h[i] = -1\n",
        "\n",
        "  P = matrix(P)\n",
        "  q = matrix(q)\n",
        "  G = matrix(G)\n",
        "  h = matrix(h)\n",
        "\n",
        "  solvers.options['show_progress'] = False\n",
        "  solution = solvers.qp(P, q, G, h)\n",
        "\n",
        "  w = np.array(solution['x']).flatten()\n",
        "  w_svm = w[:dim]\n",
        "  b_svm = w[dim]\n",
        "\n",
        "  # check for support vectors\n",
        "  # if constraint is close to 0 with margin of error then support vector\n",
        "  constraint = Y * (np.dot(X, w_svm) + b_svm) - 1\n",
        "  support_vectors = np.where(constraint <= 1e-4)[0]\n",
        "  num_sv = len(support_vectors)\n",
        "\n",
        "  return w_svm, b_svm, num_sv\n",
        "\n",
        "def measure_disagreement(m, b_line, w, b_svm=None, N=10000):\n",
        "  testX = np.random.uniform(-1, 1, (N, 2))\n",
        "  y_f = np.sign(m * testX[:, 0] - testX[:, 1] + b_line)\n",
        "\n",
        "  if b_svm is not None:\n",
        "    y_g = np.sign(np.dot(testX, w) + b_svm)\n",
        "  else:\n",
        "    ones = np.ones((N, 1))\n",
        "    testX_tmp = np.hstack((ones, testX))\n",
        "    y_g = np.sign(np.dot(testX_tmp, w))\n",
        "\n",
        "  disagreement = np.mean(y_f != y_g)\n",
        "\n",
        "  return disagreement\n",
        "\n",
        "def experiment(N):\n",
        "  runs = 1000\n",
        "  svm_better_count = 0\n",
        "  total_sv = 0\n",
        "\n",
        "  for i in range(runs):\n",
        "    X, Y, m, b_line = generate_points(N)\n",
        "\n",
        "    w_pla, iterations = pla(X, Y)\n",
        "    w_svm, b_svm, num_sv = svm(X, Y)\n",
        "\n",
        "    total_sv += num_sv\n",
        "\n",
        "    pla_disagreement = measure_disagreement(m, b_line, w_pla)\n",
        "    svm_disagreement = measure_disagreement(m, b_line, w_svm, b_svm)\n",
        "\n",
        "    if pla_disagreement > svm_disagreement:\n",
        "      svm_better_count += 1\n",
        "\n",
        "  svm_impr_performance = (svm_better_count / runs) * 100\n",
        "  avg_sv = total_sv / runs\n",
        "\n",
        "  print(f\"SVM Performance Improvement: {svm_impr_performance}\")\n",
        "  print(f\"Avg support vectors: {avg_sv}\")"
      ],
      "metadata": {
        "id": "bdVN6j83--Oe"
      },
      "execution_count": null,
      "outputs": []
    },
    {
      "cell_type": "code",
      "source": [
        "experiment(10)"
      ],
      "metadata": {
        "id": "07N8cXS6iTq6",
        "colab": {
          "base_uri": "https://localhost:8080/"
        },
        "outputId": "a81a91cd-8002-4331-feb2-5cec50c2f953"
      },
      "execution_count": null,
      "outputs": [
        {
          "output_type": "stream",
          "name": "stdout",
          "text": [
            "SVM Performance Improvement: 59.599999999999994\n",
            "Avg support vectors: 2.853\n"
          ]
        }
      ]
    },
    {
      "cell_type": "code",
      "source": [
        "experiment(100)"
      ],
      "metadata": {
        "id": "sDqBoy5ViUzc",
        "colab": {
          "base_uri": "https://localhost:8080/"
        },
        "outputId": "5985d417-ca64-4688-a8e1-c831c86ae13e"
      },
      "execution_count": null,
      "outputs": [
        {
          "output_type": "stream",
          "name": "stdout",
          "text": [
            "SVM Performance Improvement: 64.2\n",
            "Avg support vectors: 2.995\n"
          ]
        }
      ]
    }
  ]
}